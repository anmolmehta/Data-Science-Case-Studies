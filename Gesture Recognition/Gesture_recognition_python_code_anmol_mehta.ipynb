{
  "cells": [
    {
      "cell_type": "markdown",
      "metadata": {
        "id": "kTAhcBDQ7VvD"
      },
      "source": [
        "# Gesture Recognition\n",
        "In this group project, you are going to build a 3D Conv model that will be able to predict the 5 gestures correctly. Please import the following libraries to get started."
      ]
    },
    {
      "cell_type": "code",
      "source": [
        "!pip install scipy==1.1.0"
      ],
      "metadata": {
        "colab": {
          "base_uri": "https://localhost:8080/",
          "height": 401
        },
        "id": "LJMadJFOl5ip",
        "outputId": "55d8e142-8c42-429e-8c55-78a492e2f425"
      },
      "execution_count": 2,
      "outputs": [
        {
          "output_type": "stream",
          "name": "stdout",
          "text": [
            "Looking in indexes: https://pypi.org/simple, https://us-python.pkg.dev/colab-wheels/public/simple/\n",
            "Collecting scipy==1.1.0\n",
            "  Downloading scipy-1.1.0-cp37-cp37m-manylinux1_x86_64.whl (31.2 MB)\n",
            "\u001b[K     |████████████████████████████████| 31.2 MB 1.2 MB/s \n",
            "\u001b[?25hRequirement already satisfied: numpy>=1.8.2 in /usr/local/lib/python3.7/dist-packages (from scipy==1.1.0) (1.21.6)\n",
            "Installing collected packages: scipy\n",
            "  Attempting uninstall: scipy\n",
            "    Found existing installation: scipy 1.7.3\n",
            "    Uninstalling scipy-1.7.3:\n",
            "      Successfully uninstalled scipy-1.7.3\n",
            "\u001b[31mERROR: pip's dependency resolver does not currently take into account all the packages that are installed. This behaviour is the source of the following dependency conflicts.\n",
            "pymc3 3.11.5 requires scipy<1.8.0,>=1.7.3, but you have scipy 1.1.0 which is incompatible.\n",
            "plotnine 0.6.0 requires scipy>=1.2.0, but you have scipy 1.1.0 which is incompatible.\n",
            "jaxlib 0.3.14+cuda11.cudnn805 requires scipy>=1.5, but you have scipy 1.1.0 which is incompatible.\n",
            "jax 0.3.14 requires scipy>=1.5, but you have scipy 1.1.0 which is incompatible.\u001b[0m\n",
            "Successfully installed scipy-1.1.0\n"
          ]
        },
        {
          "output_type": "display_data",
          "data": {
            "application/vnd.colab-display-data+json": {
              "pip_warning": {
                "packages": [
                  "scipy"
                ]
              }
            }
          },
          "metadata": {}
        }
      ]
    },
    {
      "cell_type": "code",
      "execution_count": 1,
      "metadata": {
        "id": "hIv0sll67VvP"
      },
      "outputs": [],
      "source": [
        "import numpy as np\n",
        "import os \n",
        "import datetime\n",
        "import os\n",
        "#from matplotlib.pyplot import imread\n",
        "from scipy.misc.pilutil import imread, imresize"
      ]
    },
    {
      "cell_type": "code",
      "source": [
        ""
      ],
      "metadata": {
        "id": "k-6zm6lflt6E"
      },
      "execution_count": null,
      "outputs": []
    },
    {
      "cell_type": "markdown",
      "metadata": {
        "id": "f7CT9BNS7VvY"
      },
      "source": [
        "We set the random seed so that the results don't vary drastically."
      ]
    },
    {
      "cell_type": "code",
      "execution_count": 3,
      "metadata": {
        "id": "3yJRx_Vh7Vva"
      },
      "outputs": [],
      "source": [
        "np.random.seed(30)\n",
        "import random as rn\n",
        "rn.seed(30)\n",
        "import keras\n",
        "from keras import backend as K\n",
        "import tensorflow as tf\n",
        "tf.random.set_seed(30)"
      ]
    },
    {
      "cell_type": "markdown",
      "metadata": {
        "id": "MEfpY61G7Vvc"
      },
      "source": [
        "In this block, you read the folder names for training and validation. You also set the `batch_size` here. Note that you set the batch size in such a way that you are able to use the GPU in full capacity. You keep increasing the batch size until the machine throws an error."
      ]
    },
    {
      "cell_type": "code",
      "execution_count": 4,
      "metadata": {
        "colab": {
          "base_uri": "https://localhost:8080/"
        },
        "id": "tN4t91m57Vve",
        "outputId": "6a075fb8-515f-4230-f62c-a2a948c25eab"
      },
      "outputs": [
        {
          "output_type": "stream",
          "name": "stdout",
          "text": [
            "Mounted at /content/gdrive\n"
          ]
        }
      ],
      "source": [
        "#Mounting Google drive\n",
        "from google.colab import drive\n",
        "import pathlib\n",
        "drive.mount('/content/gdrive')\n",
        "\n",
        "#Importing Train & Validation datasets\n",
        "train_doc = np.random.permutation(open('/content/gdrive/MyDrive/Project_data/train.csv').readlines())\n",
        "val_doc = np.random.permutation(open('/content/gdrive/MyDrive/Project_data/val.csv').readlines())\n",
        "batch_size = 30 #experiment with the batch size"
      ]
    },
    {
      "cell_type": "markdown",
      "metadata": {
        "id": "MyrczJYr7Vvg"
      },
      "source": [
        "## Generator\n",
        "This is one of the most important part of the code. The overall structure of the generator has been given. In the generator, you are going to preprocess the images as you have images of 2 different dimensions as well as create a batch of video frames. You have to experiment with `img_idx`, `y`,`z` and normalization such that you get high accuracy."
      ]
    },
    {
      "cell_type": "code",
      "execution_count": 5,
      "metadata": {
        "id": "x5SEWTng7Vvj"
      },
      "outputs": [],
      "source": [
        "##Generator function for input data without augmentation.\n",
        "\n",
        "x = 30 # No. of frames images\n",
        "y = 120 # Width of the image\n",
        "z = 120 # height\n",
        "\n",
        "def generator(source_path, folder_list, batch_size):\n",
        "    print( 'Source path = ', source_path, '; batch size =', batch_size)\n",
        "    img_idx = [x for x in range(0,x)]#create a list of image numbers you want to use for a particular video\n",
        "    while True:\n",
        "        t = np.random.permutation(folder_list)\n",
        "        num_batches = len(folder_list)//batch_size # calculate the number of batches\n",
        "        for batch in range(num_batches): # we iterate over the number of batches\n",
        "            batch_data = np.zeros((batch_size,x,y,z,3)) # x is the number of images you use for each video, (y,z) is the final size of the input images and 3 is the number of channels RGB\n",
        "            batch_labels = np.zeros((batch_size,5)) # batch_labels is the one hot representation of the output\n",
        "            for folder in range(batch_size): # iterate over the batch_size\n",
        "                imgs = os.listdir(source_path+'/'+ t[folder + (batch*batch_size)].split(';')[0]) # read all the images in the folder\n",
        "                for idx,item in enumerate(img_idx): #  Iterate iver the frames/images of a folder to read them in\n",
        "                    image = imread(source_path+'/'+ t[folder + (batch*batch_size)].strip().split(';')[0]+'/'+imgs[item]).astype(np.float32)\n",
        "                    \n",
        "                    #crop the images and resize them. Note that the images are of 2 different shape \n",
        "                    #and the conv3D will throw error if the inputs in a batch have different shapes\n",
        "                    resized_image = imresize(image,(y,z)) ##default resample=1 or 'P' which indicates PIL.Image.NEAREST\n",
        "                    resized_image = resized_image/255\n",
        "\n",
        "                    batch_data[folder,idx,:,:,0] = (resized_image[:,:,0])#normalise and feed in the image\n",
        "                    batch_data[folder,idx,:,:,1] = (resized_image[:,:,1])#normalise and feed in the image\n",
        "                    batch_data[folder,idx,:,:,2] = (resized_image[:,:,2])#normalise and feed in the image\n",
        "                    \n",
        "                batch_labels[folder, int(t[folder + (batch*batch_size)].strip().split(';')[2])] = 1\n",
        "            yield batch_data, batch_labels #you yield the batch_data and the batch_labels, remember what does yield do\n",
        "\n",
        "        \n",
        "        # write the code for the remaining data points which are left after full batches\n",
        "        if (len(folder_list) != batch_size*num_batches):\n",
        "            batch_size = len(folder_list) - (batch_size*num_batches)\n",
        "            batch_data = np.zeros((batch_size,x,y,z,3)) # x is the number of images you use for each video, (y,z) is the final size of the input images and 3 is the number of channels RGB\n",
        "            batch_labels = np.zeros((batch_size,5)) # batch_labels is the one hot representation of the output\n",
        "            for folder in range(batch_size): # iterate over the batch_size\n",
        "                imgs = os.listdir(source_path+'/'+ t[folder + (batch*batch_size)].split(';')[0]) # read all the images in the folder\n",
        "                for idx,item in enumerate(img_idx): #  Iterate iver the frames/images of a folder to read them in\n",
        "                    image = imread(source_path+'/'+ t[folder + (batch*batch_size)].strip().split(';')[0]+'/'+imgs[item]).astype(np.float32)\n",
        "                    \n",
        "                    #crop the images and resize them. Note that the images are of 2 different shape \n",
        "                    #and the conv3D will throw error if the inputs in a batch have different shapes\n",
        "                    resized_image = imresize(image,(y,z)) ##default resample=1 or 'P' which indicates PIL.Image.NEAREST\n",
        "                    resized_image = resized_image/255 #Normalize data\n",
        "                    \n",
        "                    batch_data[folder,idx,:,:,0] = (resized_image[:,:,0])\n",
        "                    batch_data[folder,idx,:,:,1] = (resized_image[:,:,1])\n",
        "                    batch_data[folder,idx,:,:,2] = (resized_image[:,:,2])\n",
        "                   \n",
        "                batch_labels[folder, int(t[folder + (batch*batch_size)].strip().split(';')[2])] = 1\n",
        "            yield batch_data, batch_labels\n"
      ]
    },
    {
      "cell_type": "markdown",
      "metadata": {
        "id": "i6ot1Nqh7Vvq"
      },
      "source": [
        "Note here that a video is represented above in the generator as (number of images, height, width, number of channels). Take this into consideration while creating the model architecture."
      ]
    },
    {
      "cell_type": "code",
      "execution_count": 6,
      "metadata": {
        "colab": {
          "base_uri": "https://localhost:8080/"
        },
        "id": "IyRksoIX7Vvt",
        "outputId": "a74f133f-4eda-4dae-dbfe-ae9026c5ba0c"
      },
      "outputs": [
        {
          "output_type": "stream",
          "name": "stdout",
          "text": [
            "# training sequences = 663\n",
            "# validation sequences = 100\n",
            "# epochs = 15\n"
          ]
        }
      ],
      "source": [
        "curr_dt_time = datetime.datetime.now()\n",
        "train_path = '/content/gdrive/MyDrive/Project_data/train'\n",
        "val_path = '/content/gdrive/MyDrive/Project_data/val'\n",
        "num_train_sequences = len(train_doc)\n",
        "print('# training sequences =', num_train_sequences)\n",
        "num_val_sequences = len(val_doc)\n",
        "print('# validation sequences =', num_val_sequences)\n",
        "num_epochs = 15 # choose the number of epochs\n",
        "print ('# epochs =', num_epochs)"
      ]
    },
    {
      "cell_type": "markdown",
      "metadata": {
        "id": "fKRmvF1Y7Vvv"
      },
      "source": [
        "## Model\n",
        "Here you make the model using different functionalities that Keras provides. Remember to use `Conv3D` and `MaxPooling3D` and not `Conv2D` and `Maxpooling2D` for a 3D convolution model. You would want to use `TimeDistributed` while building a Conv2D + RNN model. Also remember that the last layer is the softmax. Design the network in such a way that the model is able to give good accuracy on the least number of parameters so that it can fit in the memory of the webcam."
      ]
    },
    {
      "cell_type": "markdown",
      "source": [
        "## **Architecture 1 - Conv3D Model**\n",
        "Batch Size : 30\n",
        "\n",
        "Image Height : 120\n",
        "\n",
        "Image Width : 120\n",
        "\n",
        "Epochs - 15\n",
        "\n",
        "Optimizer - Adam"
      ],
      "metadata": {
        "id": "wKT5kr9bG73N"
      }
    },
    {
      "cell_type": "code",
      "execution_count": 7,
      "metadata": {
        "id": "hGm3Fk6A7Vvw"
      },
      "outputs": [],
      "source": [
        "from keras.models import Sequential, Model\n",
        "from keras.layers import Dense, GRU, Flatten, TimeDistributed, Flatten, BatchNormalization, Activation,Dropout\n",
        "from keras.layers.convolutional import Conv3D, MaxPooling3D\n",
        "from keras.callbacks import ModelCheckpoint, ReduceLROnPlateau\n",
        "from keras import optimizers\n",
        "\n",
        "#write your model here\n",
        "model_1 = Sequential()       \n",
        "model_1.add(Conv3D(8,kernel_size=(3,3,3),input_shape=(30, 120, 120, 3),padding='same'))\n",
        "model_1.add(BatchNormalization())\n",
        "model_1.add(Activation('relu'))\n",
        "\n",
        "model_1.add(Conv3D(16, (3, 3, 3), padding='same'))\n",
        "model_1.add(Activation('relu'))\n",
        "model_1.add(BatchNormalization())\n",
        "model_1.add(MaxPooling3D(pool_size=(2, 2, 2)))\n",
        "\n",
        "model_1.add(Conv3D(32, (2, 2, 2), padding='same'))\n",
        "model_1.add(Activation('relu'))\n",
        "model_1.add(BatchNormalization())\n",
        "model_1.add(MaxPooling3D(pool_size=(2, 2, 2)))\n",
        "\n",
        "model_1.add(Conv3D(64, (2, 2, 2), padding='same'))\n",
        "model_1.add(Activation('relu'))\n",
        "model_1.add(BatchNormalization())\n",
        "model_1.add(MaxPooling3D(pool_size=(2, 2, 2)))\n",
        "\n",
        "model_1.add(Conv3D(128, (2, 2, 2), padding='same'))\n",
        "model_1.add(Activation('relu'))\n",
        "model_1.add(BatchNormalization())\n",
        "model_1.add(MaxPooling3D(pool_size=(2, 2, 2)))      \n",
        "\n",
        "# Flatten layer \n",
        "\n",
        "model_1.add(Flatten())\n",
        "\n",
        "model_1.add(Dense(1000, activation='relu'))\n",
        "model_1.add(Dropout(0.5))\n",
        "\n",
        "model_1.add(Dense(500, activation='relu'))\n",
        "model_1.add(Dropout(0.5))\n",
        "\n",
        "#Softmax layer\n",
        "\n",
        "model_1.add(Dense(5, activation='softmax'))\n",
        "        "
      ]
    },
    {
      "cell_type": "markdown",
      "metadata": {
        "id": "m2Sgwzpa7Vvy"
      },
      "source": [
        "Now that you have written the model, the next step is to `compile` the model. When you print the `summary` of the model, you'll see the total number of parameters you have to train."
      ]
    },
    {
      "cell_type": "code",
      "execution_count": 8,
      "metadata": {
        "scrolled": true,
        "colab": {
          "base_uri": "https://localhost:8080/"
        },
        "id": "bKLLtwj87Vvz",
        "outputId": "94a28974-a2cd-415f-f3cd-0165c60f0b1c"
      },
      "outputs": [
        {
          "output_type": "stream",
          "name": "stdout",
          "text": [
            "Model: \"sequential\"\n",
            "_________________________________________________________________\n",
            " Layer (type)                Output Shape              Param #   \n",
            "=================================================================\n",
            " conv3d (Conv3D)             (None, 30, 120, 120, 8)   656       \n",
            "                                                                 \n",
            " batch_normalization (BatchN  (None, 30, 120, 120, 8)  32        \n",
            " ormalization)                                                   \n",
            "                                                                 \n",
            " activation (Activation)     (None, 30, 120, 120, 8)   0         \n",
            "                                                                 \n",
            " conv3d_1 (Conv3D)           (None, 30, 120, 120, 16)  3472      \n",
            "                                                                 \n",
            " activation_1 (Activation)   (None, 30, 120, 120, 16)  0         \n",
            "                                                                 \n",
            " batch_normalization_1 (Batc  (None, 30, 120, 120, 16)  64       \n",
            " hNormalization)                                                 \n",
            "                                                                 \n",
            " max_pooling3d (MaxPooling3D  (None, 15, 60, 60, 16)   0         \n",
            " )                                                               \n",
            "                                                                 \n",
            " conv3d_2 (Conv3D)           (None, 15, 60, 60, 32)    4128      \n",
            "                                                                 \n",
            " activation_2 (Activation)   (None, 15, 60, 60, 32)    0         \n",
            "                                                                 \n",
            " batch_normalization_2 (Batc  (None, 15, 60, 60, 32)   128       \n",
            " hNormalization)                                                 \n",
            "                                                                 \n",
            " max_pooling3d_1 (MaxPooling  (None, 7, 30, 30, 32)    0         \n",
            " 3D)                                                             \n",
            "                                                                 \n",
            " conv3d_3 (Conv3D)           (None, 7, 30, 30, 64)     16448     \n",
            "                                                                 \n",
            " activation_3 (Activation)   (None, 7, 30, 30, 64)     0         \n",
            "                                                                 \n",
            " batch_normalization_3 (Batc  (None, 7, 30, 30, 64)    256       \n",
            " hNormalization)                                                 \n",
            "                                                                 \n",
            " max_pooling3d_2 (MaxPooling  (None, 3, 15, 15, 64)    0         \n",
            " 3D)                                                             \n",
            "                                                                 \n",
            " conv3d_4 (Conv3D)           (None, 3, 15, 15, 128)    65664     \n",
            "                                                                 \n",
            " activation_4 (Activation)   (None, 3, 15, 15, 128)    0         \n",
            "                                                                 \n",
            " batch_normalization_4 (Batc  (None, 3, 15, 15, 128)   512       \n",
            " hNormalization)                                                 \n",
            "                                                                 \n",
            " max_pooling3d_3 (MaxPooling  (None, 1, 7, 7, 128)     0         \n",
            " 3D)                                                             \n",
            "                                                                 \n",
            " flatten (Flatten)           (None, 6272)              0         \n",
            "                                                                 \n",
            " dense (Dense)               (None, 1000)              6273000   \n",
            "                                                                 \n",
            " dropout (Dropout)           (None, 1000)              0         \n",
            "                                                                 \n",
            " dense_1 (Dense)             (None, 500)               500500    \n",
            "                                                                 \n",
            " dropout_1 (Dropout)         (None, 500)               0         \n",
            "                                                                 \n",
            " dense_2 (Dense)             (None, 5)                 2505      \n",
            "                                                                 \n",
            "=================================================================\n",
            "Total params: 6,867,365\n",
            "Trainable params: 6,866,869\n",
            "Non-trainable params: 496\n",
            "_________________________________________________________________\n",
            "None\n"
          ]
        },
        {
          "output_type": "stream",
          "name": "stderr",
          "text": [
            "/usr/local/lib/python3.7/dist-packages/keras/optimizer_v2/adam.py:105: UserWarning: The `lr` argument is deprecated, use `learning_rate` instead.\n",
            "  super(Adam, self).__init__(name, **kwargs)\n"
          ]
        }
      ],
      "source": [
        "optimiser = tf.keras.optimizers.Adam(lr=0.001)#write your optimizer\n",
        "model_1.compile(optimizer=optimiser, loss='categorical_crossentropy', metrics=['categorical_accuracy'])\n",
        "print (model_1.summary())"
      ]
    },
    {
      "cell_type": "markdown",
      "metadata": {
        "id": "qcuUuFWK7Vv4"
      },
      "source": [
        "Let us create the `train_generator` and the `val_generator` which will be used in `.fit_generator`."
      ]
    },
    {
      "cell_type": "code",
      "execution_count": 9,
      "metadata": {
        "id": "jN1JS7287Vv5"
      },
      "outputs": [],
      "source": [
        "train_generator = generator(train_path, train_doc, batch_size)\n",
        "val_generator = generator(val_path, val_doc, batch_size)"
      ]
    },
    {
      "cell_type": "code",
      "execution_count": 10,
      "metadata": {
        "colab": {
          "base_uri": "https://localhost:8080/"
        },
        "id": "bpIgvBO97Vv6",
        "outputId": "27b464b2-8cc3-42b3-9024-735d80970e81"
      },
      "outputs": [
        {
          "output_type": "stream",
          "name": "stderr",
          "text": [
            "WARNING:tensorflow:`period` argument is deprecated. Please use `save_freq` to specify the frequency in number of batches seen.\n"
          ]
        }
      ],
      "source": [
        "model_name = 'model_init' + '_' + str(curr_dt_time).replace(' ','').replace(':','_') + '/'\n",
        "    \n",
        "if not os.path.exists(model_name):\n",
        "    os.mkdir(model_name)\n",
        "        \n",
        "filepath = model_name + 'model-{epoch:05d}-{loss:.5f}-{categorical_accuracy:.5f}-{val_loss:.5f}-{val_categorical_accuracy:.5f}.h5'\n",
        "\n",
        "checkpoint = ModelCheckpoint(filepath, monitor='val_loss', verbose=1, save_best_only=False, save_weights_only=False, mode='auto', period=1)\n",
        "\n",
        "LR = ReduceLROnPlateau(monitor='val_loss', factor=0.5, patience=2, cooldown=1, verbose=1)# write the REducelronplateau code here\n",
        "callbacks_list = [checkpoint, LR]"
      ]
    },
    {
      "cell_type": "markdown",
      "metadata": {
        "id": "7zeoL55f7Vv8"
      },
      "source": [
        "The `steps_per_epoch` and `validation_steps` are used by `fit_generator` to decide the number of next() calls it need to make."
      ]
    },
    {
      "cell_type": "code",
      "execution_count": 11,
      "metadata": {
        "id": "c7_tVHes7Vv9"
      },
      "outputs": [],
      "source": [
        "if (num_train_sequences%batch_size) == 0:\n",
        "    steps_per_epoch = int(num_train_sequences/batch_size)\n",
        "else:\n",
        "    steps_per_epoch = (num_train_sequences//batch_size) + 1\n",
        "\n",
        "if (num_val_sequences%batch_size) == 0:\n",
        "    validation_steps = int(num_val_sequences/batch_size)\n",
        "else:\n",
        "    validation_steps = (num_val_sequences//batch_size) + 1"
      ]
    },
    {
      "cell_type": "markdown",
      "metadata": {
        "id": "mnweqFAL7Vv-"
      },
      "source": [
        "Let us now fit the model. This will start training the model and with the help of the checkpoints, you'll be able to save the model at the end of each epoch."
      ]
    },
    {
      "cell_type": "code",
      "execution_count": null,
      "metadata": {
        "colab": {
          "base_uri": "https://localhost:8080/"
        },
        "id": "REXeoEE37VwA",
        "outputId": "f5cd2ba5-2377-45ea-b35a-a15198804290"
      },
      "outputs": [
        {
          "output_type": "stream",
          "name": "stderr",
          "text": [
            "/usr/local/lib/python3.7/dist-packages/ipykernel_launcher.py:3: UserWarning: `Model.fit_generator` is deprecated and will be removed in a future version. Please use `Model.fit`, which supports generators.\n",
            "  This is separate from the ipykernel package so we can avoid doing imports until\n"
          ]
        },
        {
          "output_type": "stream",
          "name": "stdout",
          "text": [
            "Source path =  /content/gdrive/MyDrive/Project_data/train ; batch size = 30\n"
          ]
        },
        {
          "output_type": "stream",
          "name": "stderr",
          "text": [
            "/usr/local/lib/python3.7/dist-packages/ipykernel_launcher.py:19: DeprecationWarning:     `imread` is deprecated!\n",
            "    `imread` is deprecated in SciPy 1.0.0, and will be removed in 1.2.0.\n",
            "    Use ``imageio.imread`` instead.\n",
            "/usr/local/lib/python3.7/dist-packages/ipykernel_launcher.py:23: DeprecationWarning:     `imresize` is deprecated!\n",
            "    `imresize` is deprecated in SciPy 1.0.0, and will be removed in 1.2.0.\n",
            "    Use ``skimage.transform.resize`` instead.\n"
          ]
        },
        {
          "output_type": "stream",
          "name": "stdout",
          "text": [
            "Epoch 1/15\n",
            " 9/23 [==========>...................] - ETA: 2:11:49 - loss: 10.3696 - categorical_accuracy: 0.2481"
          ]
        }
      ],
      "source": [
        "model_1.fit_generator(train_generator, steps_per_epoch=steps_per_epoch, epochs=num_epochs, verbose=1, \n",
        "                    callbacks=callbacks_list, validation_data=val_generator, \n",
        "                    validation_steps=validation_steps, class_weight=None, workers=1, initial_epoch=0)"
      ]
    },
    {
      "cell_type": "code",
      "execution_count": null,
      "metadata": {
        "id": "AnMHyr067VwB"
      },
      "outputs": [],
      "source": [
        ""
      ]
    },
    {
      "cell_type": "markdown",
      "source": [
        "## **Results:**\n",
        "*   Best Training Accuracy - 86.85 %\n",
        "*   Best Validation Accuracy - 75.00 % "
      ],
      "metadata": {
        "id": "CFYmQcjLJyR4"
      }
    },
    {
      "cell_type": "markdown",
      "source": [
        "## **Architecture 2 - Conv2D + RNN**"
      ],
      "metadata": {
        "id": "Xby2p3T6LW-w"
      }
    },
    {
      "cell_type": "markdown",
      "source": [
        "### **Model Summary**\n",
        "\n",
        "Batch Size : 40\n",
        "\n",
        "Image Height : 120\n",
        "\n",
        "Image Width : 120\n",
        "\n",
        "Epochs - 25\n",
        "\n",
        "4 Layers of Conv2D + LSTM + Dense + Softmax"
      ],
      "metadata": {
        "id": "JVgmM90OO4E8"
      }
    },
    {
      "cell_type": "code",
      "source": [
        "# Let us import all the needed libraries of Keras.\n",
        "\n",
        "from keras.models import Sequential, Model\n",
        "from keras.layers import Dense, GRU, Flatten, TimeDistributed, Flatten, BatchNormalization, Activation,Dropout\n",
        "from keras.layers.convolutional import Conv3D, MaxPooling3D, Conv2D, MaxPooling2D\n",
        "from keras.layers.recurrent import LSTM\n",
        "from keras.callbacks import ModelCheckpoint, ReduceLROnPlateau\n",
        "from keras import optimizers\n",
        "\n",
        "\n",
        "# Let us experiment different x,y,z value in the CNNLSTM network and find tune all the image size & Hyperparameters later\n",
        "\n",
        "x = 30 # number of frames\n",
        "y = 120 # image width\n",
        "z = 120 # image height\n",
        "\n",
        "# Input all the images sequencial by building the layer with dropouts and batch normalisation\n",
        "\n",
        "model_8 = Sequential()   \n",
        "model_8.add(TimeDistributed(Conv2D(16, (3, 3),padding='same', activation='relu'),input_shape=(x,y,z,3)))\n",
        "model_8.add(TimeDistributed(BatchNormalization()))\n",
        "model_8.add(TimeDistributed(MaxPooling2D((2, 2))))\n",
        "        \n",
        "model_8.add(TimeDistributed(Conv2D(32, (3, 3) , padding='same', activation='relu')))\n",
        "model_8.add(TimeDistributed(BatchNormalization()))\n",
        "model_8.add(TimeDistributed(MaxPooling2D((2, 2))))\n",
        "        \n",
        "model_8.add(TimeDistributed(Conv2D(64, (3, 3) , padding='same', activation='relu')))\n",
        "model_8.add(TimeDistributed(BatchNormalization()))\n",
        "model_8.add(TimeDistributed(MaxPooling2D((2, 2))))\n",
        "        \n",
        "model_8.add(TimeDistributed(Conv2D(128, (3, 3) , padding='same', activation='relu')))\n",
        "model_8.add(TimeDistributed(BatchNormalization()))\n",
        "model_8.add(TimeDistributed(MaxPooling2D((2, 2))))\n",
        "\n",
        "# Flatten layer \n",
        "\n",
        "model_8.add(TimeDistributed(Flatten()))\n",
        "\n",
        "model_8.add(LSTM(64))\n",
        "model_8.add(Dropout(0.25))\n",
        "\n",
        "# Dense layer \n",
        "model_8.add(Dense(64,activation='relu'))\n",
        "model_8.add(Dropout(0.25))\n",
        "\n",
        "# Softmax layer\n",
        "model_8.add(Dense(5, activation='softmax'))\n",
        "\n",
        "# Adam optimiser\n",
        "\n",
        "optimiser = optimizers.Adam(lr=0.001) #write your optimizer\n",
        "model_8.compile(optimizer=optimiser, loss='categorical_crossentropy', metrics=['categorical_accuracy'])\n",
        "print (model_8.summary())\n",
        "        "
      ],
      "metadata": {
        "id": "OaDpfc7qLVjG"
      },
      "execution_count": null,
      "outputs": []
    },
    {
      "cell_type": "code",
      "source": [
        "# Let us train and validate the model \n",
        "batch_size = 40\n",
        "train_generator = generator(train_path, train_doc, batch_size)\n",
        "val_generator = generator(val_path, val_doc, batch_size)\n",
        "\n",
        "# Let us fit the model\n",
        "\n",
        "model_8.fit_generator(train_generator, steps_per_epoch=steps_per_epoch, epochs=25, verbose=1, \n",
        "                    callbacks=callbacks_list, validation_data=val_generator, \n",
        "                    validation_steps=validation_steps, class_weight=None, workers=1, initial_epoch=0)"
      ],
      "metadata": {
        "id": "on0hkL6VPQRc"
      },
      "execution_count": null,
      "outputs": []
    },
    {
      "cell_type": "markdown",
      "source": [
        "## **Results:**\n",
        "\n",
        "\n",
        "\n",
        "*   Best Training Accuracy - 78.89 %\n",
        "*   Best Validation Accuracy - 68.33 %\n",
        "\n",
        "\n",
        "\n"
      ],
      "metadata": {
        "id": "qBM8_M6CPhx3"
      }
    },
    {
      "cell_type": "markdown",
      "source": [
        "## **Architecture 3 - with GRU**\n",
        "\n",
        "### **Model Summary**\n",
        "Batch Size : 40\n",
        "\n",
        "Image Height : 120\n",
        "\n",
        "Image Width : 120\n",
        "\n",
        "Epochs - 25\n",
        "\n",
        "4 Layers of Conv2D + GRU + Dense + Softmax"
      ],
      "metadata": {
        "id": "rhxapAv-Pxco"
      }
    },
    {
      "cell_type": "code",
      "source": [
        "# Let us experiment different x,y,z value in the CNNLSTM network and find tune all the image size & Hyperparameters later\n",
        "\n",
        "x = 30 # number of frames\n",
        "y = 120 # image width\n",
        "z = 120 # image height\n",
        "\n",
        "# Input all the images sequencial by building the layer with dropouts and batchnormalisation\n",
        "\n",
        "model_15 = Sequential()   \n",
        "model_15.add(TimeDistributed(Conv2D(8, (3, 3),padding='same', activation='relu'),input_shape=(x,y,z,3)))\n",
        "model_15.add(TimeDistributed(BatchNormalization()))\n",
        "model_15.add(TimeDistributed(MaxPooling2D((2, 2))))\n",
        "        \n",
        "model_15.add(TimeDistributed(Conv2D(16, (3, 3) , padding='same', activation='relu')))\n",
        "model_15.add(TimeDistributed(BatchNormalization()))\n",
        "model_15.add(TimeDistributed(MaxPooling2D((2, 2))))\n",
        "        \n",
        "model_15.add(TimeDistributed(Conv2D(32, (3, 3) , padding='same', activation='relu')))\n",
        "model_15.add(TimeDistributed(BatchNormalization()))\n",
        "model_15.add(TimeDistributed(MaxPooling2D((2, 2))))\n",
        "        \n",
        "model_15.add(TimeDistributed(Conv2D(64, (3, 3) , padding='same', activation='relu')))\n",
        "model_15.add(TimeDistributed(BatchNormalization()))\n",
        "model_15.add(TimeDistributed(MaxPooling2D((2, 2))))\n",
        "        \n",
        "model_15.add(TimeDistributed(Conv2D(128, (3, 3) , padding='same', activation='relu')))\n",
        "model_15.add(TimeDistributed(BatchNormalization()))\n",
        "model_15.add(TimeDistributed(MaxPooling2D((2, 2))))\n",
        "\n",
        "# Flatten layer \n",
        "\n",
        "model_15.add(TimeDistributed(Flatten()))\n",
        "\n",
        "model_15.add(GRU(64))\n",
        "model_15.add(Dropout(0.25))\n",
        "\n",
        "# Dense layer \n",
        "model_15.add(Dense(64,activation='relu'))\n",
        "model_15.add(Dropout(0.25))\n",
        "\n",
        "# Softmax layer\n",
        "model_15.add(Dense(5, activation='softmax'))\n",
        "\n",
        "# Adam optimiser\n",
        "\n",
        "optimiser = optimizers.Adam(lr=0.001) #write your optimizer\n",
        "model_15.compile(optimizer=optimiser, loss='categorical_crossentropy', metrics=['categorical_accuracy'])\n",
        "print (model_15.summary())"
      ],
      "metadata": {
        "id": "VvCLIR9kPtPM"
      },
      "execution_count": null,
      "outputs": []
    },
    {
      "cell_type": "code",
      "source": [
        "# Let us train and validate the model \n",
        "batch_size = 40\n",
        "train_generator = generator(train_path, train_doc, batch_size)\n",
        "val_generator = generator(val_path, val_doc, batch_size)\n",
        "model_15.fit_generator(train_generator, steps_per_epoch=steps_per_epoch, epochs=25, verbose=1, \n",
        "                    callbacks=callbacks_list, validation_data=val_generator, \n",
        "                    validation_steps=validation_steps, class_weight=None, workers=1, initial_epoch=0)"
      ],
      "metadata": {
        "id": "iWsXlfjCQznj"
      },
      "execution_count": null,
      "outputs": []
    },
    {
      "cell_type": "markdown",
      "source": [
        "### **Results:**\n",
        "Best Training Accuracy - 93.08 %\n",
        "\n",
        "Best Validation Accuracy - 70.00 %"
      ],
      "metadata": {
        "id": "zKELBKsQQ_nm"
      }
    },
    {
      "cell_type": "code",
      "source": [
        ""
      ],
      "metadata": {
        "id": "Fr9uPNqDRFLm"
      },
      "execution_count": null,
      "outputs": []
    }
  ],
  "metadata": {
    "kernelspec": {
      "display_name": "Python 3",
      "language": "python",
      "name": "python3"
    },
    "language_info": {
      "codemirror_mode": {
        "name": "ipython",
        "version": 3
      },
      "file_extension": ".py",
      "mimetype": "text/x-python",
      "name": "python",
      "nbconvert_exporter": "python",
      "pygments_lexer": "ipython3",
      "version": "3.6.5"
    },
    "colab": {
      "name": "Neural_Nets_Project_Starter_Code.ipynb",
      "provenance": [],
      "collapsed_sections": []
    },
    "accelerator": "GPU",
    "gpuClass": "standard"
  },
  "nbformat": 4,
  "nbformat_minor": 0
}